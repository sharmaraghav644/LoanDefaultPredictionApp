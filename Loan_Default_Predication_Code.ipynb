{
 "cells": [
  {
   "cell_type": "code",
   "execution_count": 33,
   "metadata": {},
   "outputs": [],
   "source": [
    "import numpy as np\n",
    "import pandas as pd \n",
    "import matplotlib.pyplot as plt\n",
    "import seaborn as sns\n",
    "from sklearn.model_selection import train_test_split\n",
    "from sklearn.preprocessing import StandardScaler\n",
    "from sklearn.svm import SVC\n",
    "from sklearn.ensemble import RandomForestClassifier, GradientBoostingClassifier\n",
    "from sklearn.linear_model import LogisticRegression\n",
    "from xgboost import XGBClassifier\n",
    "from sklearn.metrics import accuracy_score\n",
    "from sklearn.preprocessing import LabelEncoder\n",
    "\n",
    "\n",
    "file_path = \"/Users/raghavsharma/desktop/loan_default_predication_kaggle.csv\"\n",
    "\n",
    "df = pd.read_csv(file_path)"
   ]
  },
  {
   "cell_type": "code",
   "execution_count": 34,
   "metadata": {},
   "outputs": [
    {
     "name": "stdout",
     "output_type": "stream",
     "text": [
      "Index(['LoanID', 'Age', 'Income', 'LoanAmount', 'CreditScore',\n",
      "       'MonthsEmployed', 'NumCreditLines', 'InterestRate', 'LoanTerm',\n",
      "       'DTIRatio', 'Education', 'EmploymentType', 'MaritalStatus',\n",
      "       'HasMortgage', 'HasDependents', 'LoanPurpose', 'HasCoSigner',\n",
      "       'Default'],\n",
      "      dtype='object')\n"
     ]
    }
   ],
   "source": [
    "#Names of the columns\n",
    "print(df.columns)"
   ]
  },
  {
   "cell_type": "code",
   "execution_count": 35,
   "metadata": {},
   "outputs": [
    {
     "name": "stdout",
     "output_type": "stream",
     "text": [
      "(255347, 18)\n",
      "       LoanID  Age  Income  LoanAmount  CreditScore  MonthsEmployed  \\\n",
      "0  I38PQUQS96   56   85994       50587          520              80   \n",
      "1  HPSK72WA7R   69   50432      124440          458              15   \n",
      "2  C1OZ6DPJ8Y   46   84208      129188          451              26   \n",
      "3  V2KKSFM3UN   32   31713       44799          743               0   \n",
      "4  EY08JDHTZP   60   20437        9139          633               8   \n",
      "\n",
      "   NumCreditLines  InterestRate  LoanTerm  DTIRatio    Education  \\\n",
      "0               4         15.23        36      0.44   Bachelor's   \n",
      "1               1          4.81        60      0.68     Master's   \n",
      "2               3         21.17        24      0.31     Master's   \n",
      "3               3          7.07        24      0.23  High School   \n",
      "4               4          6.51        48      0.73   Bachelor's   \n",
      "\n",
      "  EmploymentType MaritalStatus HasMortgage HasDependents LoanPurpose  \\\n",
      "0      Full-time      Divorced         Yes           Yes       Other   \n",
      "1      Full-time       Married          No            No       Other   \n",
      "2     Unemployed      Divorced         Yes           Yes        Auto   \n",
      "3      Full-time       Married          No            No    Business   \n",
      "4     Unemployed      Divorced          No           Yes        Auto   \n",
      "\n",
      "  HasCoSigner  Default  \n",
      "0         Yes        0  \n",
      "1         Yes        0  \n",
      "2          No        1  \n",
      "3          No        0  \n",
      "4          No        0  \n"
     ]
    }
   ],
   "source": [
    "# Shape of the dataset\n",
    "print(df.shape)\n",
    "\n",
    "# First 5 rows\n",
    "print(df.head(5))\n",
    "\n"
   ]
  },
  {
   "cell_type": "code",
   "execution_count": 36,
   "metadata": {},
   "outputs": [
    {
     "name": "stdout",
     "output_type": "stream",
     "text": [
      "<class 'pandas.core.frame.DataFrame'>\n",
      "RangeIndex: 255347 entries, 0 to 255346\n",
      "Data columns (total 18 columns):\n",
      " #   Column          Non-Null Count   Dtype  \n",
      "---  ------          --------------   -----  \n",
      " 0   LoanID          255347 non-null  object \n",
      " 1   Age             255347 non-null  int64  \n",
      " 2   Income          255347 non-null  int64  \n",
      " 3   LoanAmount      255347 non-null  int64  \n",
      " 4   CreditScore     255347 non-null  int64  \n",
      " 5   MonthsEmployed  255347 non-null  int64  \n",
      " 6   NumCreditLines  255347 non-null  int64  \n",
      " 7   InterestRate    255347 non-null  float64\n",
      " 8   LoanTerm        255347 non-null  int64  \n",
      " 9   DTIRatio        255347 non-null  float64\n",
      " 10  Education       255347 non-null  object \n",
      " 11  EmploymentType  255347 non-null  object \n",
      " 12  MaritalStatus   255347 non-null  object \n",
      " 13  HasMortgage     255347 non-null  object \n",
      " 14  HasDependents   255347 non-null  object \n",
      " 15  LoanPurpose     255347 non-null  object \n",
      " 16  HasCoSigner     255347 non-null  object \n",
      " 17  Default         255347 non-null  int64  \n",
      "dtypes: float64(2), int64(8), object(8)\n",
      "memory usage: 35.1+ MB\n",
      "None\n",
      "                 Age         Income     LoanAmount    CreditScore  \\\n",
      "count  255347.000000  255347.000000  255347.000000  255347.000000   \n",
      "mean       43.498306   82499.304597  127578.865512     574.264346   \n",
      "std        14.990258   38963.013729   70840.706142     158.903867   \n",
      "min        18.000000   15000.000000    5000.000000     300.000000   \n",
      "25%        31.000000   48825.500000   66156.000000     437.000000   \n",
      "50%        43.000000   82466.000000  127556.000000     574.000000   \n",
      "75%        56.000000  116219.000000  188985.000000     712.000000   \n",
      "max        69.000000  149999.000000  249999.000000     849.000000   \n",
      "\n",
      "       MonthsEmployed  NumCreditLines   InterestRate       LoanTerm  \\\n",
      "count   255347.000000   255347.000000  255347.000000  255347.000000   \n",
      "mean        59.541976        2.501036      13.492773      36.025894   \n",
      "std         34.643376        1.117018       6.636443      16.969330   \n",
      "min          0.000000        1.000000       2.000000      12.000000   \n",
      "25%         30.000000        2.000000       7.770000      24.000000   \n",
      "50%         60.000000        2.000000      13.460000      36.000000   \n",
      "75%         90.000000        3.000000      19.250000      48.000000   \n",
      "max        119.000000        4.000000      25.000000      60.000000   \n",
      "\n",
      "            DTIRatio        Default  \n",
      "count  255347.000000  255347.000000  \n",
      "mean        0.500212       0.116128  \n",
      "std         0.230917       0.320379  \n",
      "min         0.100000       0.000000  \n",
      "25%         0.300000       0.000000  \n",
      "50%         0.500000       0.000000  \n",
      "75%         0.700000       0.000000  \n",
      "max         0.900000       1.000000  \n"
     ]
    }
   ],
   "source": [
    "# Data types and missing values\n",
    "print(df.info())\n",
    "\n",
    "# Summary statistics\n",
    "print(df.describe())"
   ]
  },
  {
   "cell_type": "code",
   "execution_count": 37,
   "metadata": {},
   "outputs": [
    {
     "name": "stdout",
     "output_type": "stream",
     "text": [
      "<bound method NDFrame._add_numeric_operations.<locals>.sum of         LoanID    Age  Income  LoanAmount  CreditScore  MonthsEmployed  \\\n",
      "0        False  False   False       False        False           False   \n",
      "1        False  False   False       False        False           False   \n",
      "2        False  False   False       False        False           False   \n",
      "3        False  False   False       False        False           False   \n",
      "4        False  False   False       False        False           False   \n",
      "...        ...    ...     ...         ...          ...             ...   \n",
      "255342   False  False   False       False        False           False   \n",
      "255343   False  False   False       False        False           False   \n",
      "255344   False  False   False       False        False           False   \n",
      "255345   False  False   False       False        False           False   \n",
      "255346   False  False   False       False        False           False   \n",
      "\n",
      "        NumCreditLines  InterestRate  LoanTerm  DTIRatio  Education  \\\n",
      "0                False         False     False     False      False   \n",
      "1                False         False     False     False      False   \n",
      "2                False         False     False     False      False   \n",
      "3                False         False     False     False      False   \n",
      "4                False         False     False     False      False   \n",
      "...                ...           ...       ...       ...        ...   \n",
      "255342           False         False     False     False      False   \n",
      "255343           False         False     False     False      False   \n",
      "255344           False         False     False     False      False   \n",
      "255345           False         False     False     False      False   \n",
      "255346           False         False     False     False      False   \n",
      "\n",
      "        EmploymentType  MaritalStatus  HasMortgage  HasDependents  \\\n",
      "0                False          False        False          False   \n",
      "1                False          False        False          False   \n",
      "2                False          False        False          False   \n",
      "3                False          False        False          False   \n",
      "4                False          False        False          False   \n",
      "...                ...            ...          ...            ...   \n",
      "255342           False          False        False          False   \n",
      "255343           False          False        False          False   \n",
      "255344           False          False        False          False   \n",
      "255345           False          False        False          False   \n",
      "255346           False          False        False          False   \n",
      "\n",
      "        LoanPurpose  HasCoSigner  Default  \n",
      "0             False        False    False  \n",
      "1             False        False    False  \n",
      "2             False        False    False  \n",
      "3             False        False    False  \n",
      "4             False        False    False  \n",
      "...             ...          ...      ...  \n",
      "255342        False        False    False  \n",
      "255343        False        False    False  \n",
      "255344        False        False    False  \n",
      "255345        False        False    False  \n",
      "255346        False        False    False  \n",
      "\n",
      "[255347 rows x 18 columns]>\n"
     ]
    }
   ],
   "source": [
    "print(df.isnull().sum)"
   ]
  },
  {
   "cell_type": "code",
   "execution_count": 38,
   "metadata": {},
   "outputs": [
    {
     "name": "stdout",
     "output_type": "stream",
     "text": [
      "LoanID            0.0\n",
      "Age               0.0\n",
      "Income            0.0\n",
      "LoanAmount        0.0\n",
      "CreditScore       0.0\n",
      "MonthsEmployed    0.0\n",
      "NumCreditLines    0.0\n",
      "InterestRate      0.0\n",
      "LoanTerm          0.0\n",
      "DTIRatio          0.0\n",
      "Education         0.0\n",
      "EmploymentType    0.0\n",
      "MaritalStatus     0.0\n",
      "HasMortgage       0.0\n",
      "HasDependents     0.0\n",
      "LoanPurpose       0.0\n",
      "HasCoSigner       0.0\n",
      "Default           0.0\n",
      "dtype: float64\n"
     ]
    }
   ],
   "source": [
    "missing_percent = df.isnull().sum() / len(df) * 100\n",
    "print(missing_percent)\n"
   ]
  },
  {
   "cell_type": "code",
   "execution_count": 39,
   "metadata": {},
   "outputs": [
    {
     "name": "stdout",
     "output_type": "stream",
     "text": [
      "   Age  Income  LoanAmount  CreditScore  MonthsEmployed  NumCreditLines  \\\n",
      "0   56   85994       50587          520              80               4   \n",
      "1   69   50432      124440          458              15               1   \n",
      "2   46   84208      129188          451              26               3   \n",
      "3   32   31713       44799          743               0               3   \n",
      "4   60   20437        9139          633               8               4   \n",
      "\n",
      "   InterestRate  LoanTerm  DTIRatio    Education EmploymentType MaritalStatus  \\\n",
      "0         15.23        36      0.44   Bachelor's      Full-time      Divorced   \n",
      "1          4.81        60      0.68     Master's      Full-time       Married   \n",
      "2         21.17        24      0.31     Master's     Unemployed      Divorced   \n",
      "3          7.07        24      0.23  High School      Full-time       Married   \n",
      "4          6.51        48      0.73   Bachelor's     Unemployed      Divorced   \n",
      "\n",
      "  HasMortgage HasDependents LoanPurpose HasCoSigner  Default  \n",
      "0         Yes           Yes       Other         Yes        0  \n",
      "1          No            No       Other         Yes        0  \n",
      "2         Yes           Yes        Auto          No        1  \n",
      "3          No            No    Business          No        0  \n",
      "4          No           Yes        Auto          No        0  \n"
     ]
    }
   ],
   "source": [
    "#In the dataset, the column LoanID is a unique identifier for each loan application and does not carry any meaningful information that could help the model \n",
    "# predict whether a loan will default or not.\n",
    "\n",
    "#The correct course of action is to drop the column before the processing of the data.\n",
    "\n",
    "df.drop(columns=['LoanID'], inplace=True)\n",
    "\n",
    "print(df.head(5))"
   ]
  },
  {
   "cell_type": "code",
   "execution_count": 41,
   "metadata": {},
   "outputs": [
    {
     "name": "stdout",
     "output_type": "stream",
     "text": [
      "Index(['Age', 'Income', 'LoanAmount', 'CreditScore', 'MonthsEmployed',\n",
      "       'NumCreditLines', 'InterestRate', 'LoanTerm', 'DTIRatio', 'Education',\n",
      "       'EmploymentType', 'MaritalStatus', 'HasMortgage', 'HasDependents',\n",
      "       'LoanPurpose', 'HasCoSigner', 'Default', 'EmploymentType_encoded',\n",
      "       'MarritalStatus_encoded', 'Education_encoded', 'HasMortgage_encoded',\n",
      "       'HasDependents_encoded', 'LoanPurpose_encoded', 'HasCoSigner_encoded'],\n",
      "      dtype='object')\n"
     ]
    }
   ],
   "source": [
    "#A few of the columns (Education, EmploymentType, MaritalStatus, HasMortgage, HasDependents, LoanPurpose, HasCosigner) have categorical values. \n",
    "# Before we proceed, we need to convert them into numerical values.\n",
    "\n",
    "label_encoder = LabelEncoder()\n",
    "\n",
    "# Apply Label Encoding to the 'purpose' column since it is the only categorical value column\n",
    "df['EmploymentType_encoded'] = label_encoder.fit_transform(df['EmploymentType'])\n",
    "df['MarritalStatus_encoded'] = label_encoder.fit_transform(df['MaritalStatus'])\n",
    "df['Education_encoded'] = label_encoder.fit_transform(df['Education'])\n",
    "df['HasMortgage_encoded'] = label_encoder.fit_transform(df['HasMortgage'])\n",
    "df['HasDependents_encoded'] = label_encoder.fit_transform(df['HasDependents'])\n",
    "df['LoanPurpose_encoded'] = label_encoder.fit_transform(df['LoanPurpose'])\n",
    "df['HasCoSigner_encoded'] = label_encoder.fit_transform(df['HasCoSigner'])\n",
    "\n",
    "print(df.columns)"
   ]
  },
  {
   "cell_type": "code",
   "execution_count": 42,
   "metadata": {},
   "outputs": [
    {
     "name": "stdout",
     "output_type": "stream",
     "text": [
      "   Age  Income  LoanAmount  CreditScore  MonthsEmployed  NumCreditLines  \\\n",
      "0   56   85994       50587          520              80               4   \n",
      "1   69   50432      124440          458              15               1   \n",
      "2   46   84208      129188          451              26               3   \n",
      "3   32   31713       44799          743               0               3   \n",
      "\n",
      "   InterestRate  LoanTerm  DTIRatio    Education  ... LoanPurpose HasCoSigner  \\\n",
      "0         15.23        36      0.44   Bachelor's  ...       Other         Yes   \n",
      "1          4.81        60      0.68     Master's  ...       Other         Yes   \n",
      "2         21.17        24      0.31     Master's  ...        Auto          No   \n",
      "3          7.07        24      0.23  High School  ...    Business          No   \n",
      "\n",
      "  Default EmploymentType_encoded MarritalStatus_encoded Education_encoded  \\\n",
      "0       0                      0                      0                 0   \n",
      "1       0                      0                      1                 2   \n",
      "2       1                      3                      0                 2   \n",
      "3       0                      0                      1                 1   \n",
      "\n",
      "   HasMortgage_encoded  HasDependents_encoded  LoanPurpose_encoded  \\\n",
      "0                    1                      1                    4   \n",
      "1                    0                      0                    4   \n",
      "2                    1                      1                    0   \n",
      "3                    0                      0                    1   \n",
      "\n",
      "   HasCoSigner_encoded  \n",
      "0                    1  \n",
      "1                    1  \n",
      "2                    0  \n",
      "3                    0  \n",
      "\n",
      "[4 rows x 24 columns]\n"
     ]
    }
   ],
   "source": [
    "print(df.head(4))"
   ]
  },
  {
   "cell_type": "code",
   "execution_count": 44,
   "metadata": {},
   "outputs": [
    {
     "name": "stdout",
     "output_type": "stream",
     "text": [
      "Remaining columns: Index(['Age', 'Income', 'LoanAmount', 'CreditScore', 'MonthsEmployed',\n",
      "       'NumCreditLines', 'InterestRate', 'LoanTerm', 'DTIRatio', 'Default',\n",
      "       'EmploymentType_encoded', 'MarritalStatus_encoded', 'Education_encoded',\n",
      "       'HasMortgage_encoded', 'HasDependents_encoded', 'LoanPurpose_encoded',\n",
      "       'HasCoSigner_encoded'],\n",
      "      dtype='object')\n"
     ]
    }
   ],
   "source": [
    "#Now, we drop the columns which have categorical values only since the we have encoded them into numerical values hence creating new columns with _encoded name\n",
    "\n",
    "columns_to_drop = ['Education', 'EmploymentType', 'MaritalStatus', 'HasMortgage', 'HasDependents', 'LoanPurpose', 'HasCoSigner']\n",
    "\n",
    "# Drop the specified columns\n",
    "df.drop(columns=columns_to_drop, inplace=True)\n",
    "\n",
    "# Verify that the columns have been dropped\n",
    "print(\"Remaining columns:\", df.columns)"
   ]
  },
  {
   "cell_type": "code",
   "execution_count": null,
   "metadata": {},
   "outputs": [],
   "source": []
  }
 ],
 "metadata": {
  "kernelspec": {
   "display_name": "base",
   "language": "python",
   "name": "python3"
  },
  "language_info": {
   "codemirror_mode": {
    "name": "ipython",
    "version": 3
   },
   "file_extension": ".py",
   "mimetype": "text/x-python",
   "name": "python",
   "nbconvert_exporter": "python",
   "pygments_lexer": "ipython3",
   "version": "3.10.9"
  },
  "orig_nbformat": 4
 },
 "nbformat": 4,
 "nbformat_minor": 2
}
